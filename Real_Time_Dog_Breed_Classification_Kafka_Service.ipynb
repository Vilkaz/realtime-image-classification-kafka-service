{
 "cells": [
  {
   "cell_type": "code",
   "execution_count": 1,
   "metadata": {},
   "outputs": [
    {
     "name": "stderr",
     "output_type": "stream",
     "text": [
      "Using TensorFlow backend.\n"
     ]
    }
   ],
   "source": [
    "from keras.layers.pooling import GlobalAveragePooling2D\n",
    "from keras.layers.merge import Concatenate\n",
    "from keras.layers import Input, Dense\n",
    "from keras.layers.core import Dropout, Activation\n",
    "from keras.callbacks import ModelCheckpoint\n",
    "from keras.preprocessing.image import img_to_array\n",
    "from keras.layers.normalization import BatchNormalization\n",
    "from keras.models import Model\n",
    "from keras.applications import inception_v3\n",
    "import numpy as np\n",
    "from sklearn.preprocessing import LabelEncoder, OneHotEncoder\n",
    "import pickle\n",
    "import os.path\n",
    "from keras.applications.inception_v3 import InceptionV3, preprocess_input\n",
    "import base64\n",
    "from PIL import Image\n",
    "from kafka import KafkaConsumer, KafkaProducer\n",
    "from io import BytesIO\n",
    "import json"
   ]
  },
  {
   "cell_type": "code",
   "execution_count": null,
   "metadata": {},
   "outputs": [],
   "source": [
    "KAFKA_BROKER_ADDRESS='localhost:9092'"
   ]
  },
  {
   "cell_type": "code",
   "execution_count": 2,
   "metadata": {},
   "outputs": [],
   "source": [
    "try:\n",
    "    assert os.path.isfile('dogbreed_model.hdf5') and \\\n",
    "           os.path.isfile('dogbreed_labels.pickle')\n",
    "except:\n",
    "    print(\"Run the Train_Dog_Breed_Model Script first to train the Dog Breed Classification Model\")\n",
    "    raise"
   ]
  },
  {
   "cell_type": "code",
   "execution_count": 3,
   "metadata": {},
   "outputs": [],
   "source": [
    "inception_model = InceptionV3(weights='imagenet', include_top=False)"
   ]
  },
  {
   "cell_type": "code",
   "execution_count": 4,
   "metadata": {},
   "outputs": [
    {
     "name": "stdout",
     "output_type": "stream",
     "text": [
      "_________________________________________________________________\n",
      "Layer (type)                 Output Shape              Param #   \n",
      "=================================================================\n",
      "input_2 (InputLayer)         (None, 8, 8, 2048)        0         \n",
      "_________________________________________________________________\n",
      "global_average_pooling2d_1 ( (None, 2048)              0         \n",
      "_________________________________________________________________\n",
      "dense_1 (Dense)              (None, 512)               1048576   \n",
      "_________________________________________________________________\n",
      "batch_normalization_95 (Batc (None, 512)               2048      \n",
      "_________________________________________________________________\n",
      "activation_95 (Activation)   (None, 512)               0         \n",
      "_________________________________________________________________\n",
      "dropout_1 (Dropout)          (None, 512)               0         \n",
      "_________________________________________________________________\n",
      "dense_2 (Dense)              (None, 256)               131072    \n",
      "_________________________________________________________________\n",
      "batch_normalization_96 (Batc (None, 256)               1024      \n",
      "_________________________________________________________________\n",
      "activation_96 (Activation)   (None, 256)               0         \n",
      "_________________________________________________________________\n",
      "dropout_2 (Dropout)          (None, 256)               0         \n",
      "_________________________________________________________________\n",
      "dense_3 (Dense)              (None, 133)               34181     \n",
      "=================================================================\n",
      "Total params: 1,216,901\n",
      "Trainable params: 1,215,365\n",
      "Non-trainable params: 1,536\n",
      "_________________________________________________________________\n"
     ]
    }
   ],
   "source": [
    "net_input = Input(shape=(8, 8, 2048))\n",
    "net = GlobalAveragePooling2D()(net_input)\n",
    "net = Dense(512, use_bias=False, kernel_initializer='uniform')(net)\n",
    "net = BatchNormalization()(net)\n",
    "net = Activation(\"relu\")(net)\n",
    "net = Dropout(0.5)(net)\n",
    "net = Dense(256, use_bias=False, kernel_initializer='uniform')(net)\n",
    "net = BatchNormalization()(net)\n",
    "net = Activation(\"relu\")(net)\n",
    "net = Dropout(0.5)(net)\n",
    "net = Dense(133, kernel_initializer='uniform', activation=\"softmax\")(net)\n",
    "\n",
    "dog_breed_model = Model(inputs=[net_input], outputs=[net])\n",
    "dog_breed_model.summary()\n",
    "dog_breed_model.load_weights('dogbreed_model.hdf5')"
   ]
  },
  {
   "cell_type": "code",
   "execution_count": null,
   "metadata": {},
   "outputs": [],
   "source": [
    "with open(\"dogbreed_labels.pickle\", \"rb\") as f:\n",
    "    dogbreed_labels = np.array(pickle.load(f))\n",
    "\n",
    "def format_percentage(raw_probability):\n",
    "    return \"{0:.2f}%\".format(raw_probability * 100)\n",
    "    \n",
    "class LabelRecord(object):\n",
    "    def __init__(self, predictions):\n",
    "        \n",
    "        probabilities = np.array(predictions[0])\n",
    "        top_five_breed_index = np.argsort(probabilities)[::-1][:5]\n",
    "        \n",
    "        dog_breed_names = dogbreed_labels[top_five_breed_index]\n",
    "        \n",
    "        self.label1 = dog_breed_names[0].upper()\n",
    "        self.probability1 = format_percentage(probabilities[top_five_breed_index[0]])\n",
    "        self.label2 = dog_breed_names[1].upper()\n",
    "        self.probability2 = format_percentage(probabilities[top_five_breed_index[1]])\n",
    "        self.label3 = dog_breed_names[2].upper()\n",
    "        self.probability3 = format_percentage(probabilities[top_five_breed_index[2]])\n",
    "        self.label4 = dog_breed_names[3].upper()\n",
    "        self.probability4 = format_percentage(probabilities[top_five_breed_index[3]])\n",
    "        self.label5 = dog_breed_names[4].upper()\n",
    "        self.probability5 = format_percentage(probabilities[top_five_breed_index[4]])\n",
    "\n",
    "    def toJSON(self):\n",
    "        return json.dumps(self, default=lambda obj: obj.__dict__, sort_keys=True, indent=4)"
   ]
  },
  {
   "cell_type": "code",
   "execution_count": null,
   "metadata": {},
   "outputs": [],
   "source": [
    "# Kafka Service\n",
    "consumer = KafkaConsumer('classificationimage', group_id='group1',bootstrap_servers=KAFKA_BROKER_ADDRESS)\n",
    "producer = KafkaProducer(bootstrap_servers=KAFKA_BROKER_ADDRESS)\n",
    "for message in consumer:\n",
    "    \n",
    "    # transform image\n",
    "    image_data = base64.b64decode(message.value.decode())\n",
    "    pil_image = Image.open(BytesIO(image_data))\n",
    "    image_array = img_to_array(pil_image)\n",
    "    image_batch = np.expand_dims(image_array, axis=0)\n",
    "    processed_image = preprocess_input(image_batch.copy())\n",
    "    \n",
    "    # make predictions\n",
    "    inception_v3_predictions = inception_model.predict(processed_image)\n",
    "    predictions = dog_breed_model.predict(inception_v3_predictions)\n",
    "    \n",
    "    # transform predictions to json\n",
    "    label = LabelRecord(predictions)\n",
    "    label_json = label.toJSON()\n",
    "    \n",
    "    # send encoded label\n",
    "    producer.send('classificationlabel', label_json.encode())"
   ]
  },
  {
   "cell_type": "code",
   "execution_count": null,
   "metadata": {},
   "outputs": [],
   "source": []
  }
 ],
 "metadata": {
  "kernelspec": {
   "display_name": "Python 3",
   "language": "python",
   "name": "python3"
  },
  "language_info": {
   "codemirror_mode": {
    "name": "ipython",
    "version": 3
   },
   "file_extension": ".py",
   "mimetype": "text/x-python",
   "name": "python",
   "nbconvert_exporter": "python",
   "pygments_lexer": "ipython3",
   "version": "3.5.4"
  }
 },
 "nbformat": 4,
 "nbformat_minor": 2
}
