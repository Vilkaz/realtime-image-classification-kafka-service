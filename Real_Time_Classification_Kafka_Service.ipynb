{
 "cells": [
  {
   "cell_type": "code",
   "execution_count": 1,
   "metadata": {},
   "outputs": [
    {
     "name": "stderr",
     "output_type": "stream",
     "text": [
      "Using TensorFlow backend.\n"
     ]
    }
   ],
   "source": [
    "import keras\n",
    "import numpy as np\n",
    "from keras.applications import inception_v3\n",
    "from keras.preprocessing.image import img_to_array\n",
    "from keras.applications.imagenet_utils import decode_predictions\n",
    "import base64\n",
    "from PIL import Image\n",
    "from kafka import KafkaConsumer, KafkaProducer\n",
    "from io import BytesIO\n",
    "import json"
   ]
  },
  {
   "cell_type": "code",
   "execution_count": null,
   "metadata": {},
   "outputs": [],
   "source": [
    "KAFKA_BROKER_ADDRESS='localhost:9092'"
   ]
  },
  {
   "cell_type": "code",
   "execution_count": 2,
   "metadata": {},
   "outputs": [],
   "source": [
    "#Load the Inception_V3 model\n",
    "inception_model = inception_v3.InceptionV3(weights='imagenet')"
   ]
  },
  {
   "cell_type": "code",
   "execution_count": null,
   "metadata": {},
   "outputs": [],
   "source": [
    "def format_percentage(raw_probability):\n",
    "    return \"{0:.2f}%\".format(raw_probability * 100)\n",
    "    \n",
    "class LabelRecord(object):\n",
    "    def __init__(self, raw_label):\n",
    "        \n",
    "        self.label1 = raw_label[0][0][1].upper()\n",
    "        self.probability1 = format_percentage(raw_label[0][0][2])\n",
    "        self.label2 = raw_label[0][1][1].upper()\n",
    "        self.probability2 = format_percentage(raw_label[0][1][2])\n",
    "        self.label3 = raw_label[0][2][1].upper()\n",
    "        self.probability3 = format_percentage(raw_label[0][2][2])\n",
    "        self.label4 = raw_label[0][3][1].upper()\n",
    "        self.probability4 = format_percentage(raw_label[0][3][2])\n",
    "        self.label5 = raw_label[0][4][1].upper()\n",
    "        self.probability5 = format_percentage(raw_label[0][4][2])\n",
    "\n",
    "    def toJSON(self):\n",
    "        return json.dumps(self, default=lambda obj: obj.__dict__, sort_keys=True, indent=4)"
   ]
  },
  {
   "cell_type": "code",
   "execution_count": null,
   "metadata": {},
   "outputs": [],
   "source": [
    "# Kafka Service\n",
    "consumer = KafkaConsumer('classificationimage', group_id='group1',bootstrap_servers=KAFKA_BROKER_ADDRESS)\n",
    "producer = KafkaProducer(bootstrap_servers=KAFKA_BROKER_ADDRESS)\n",
    "for message in consumer:\n",
    "    \n",
    "    # transform image\n",
    "    image_data = base64.b64decode(message.value.decode())\n",
    "    pil_image = Image.open(BytesIO(image_data))\n",
    "    image_array = img_to_array(pil_image)\n",
    "    image_batch = np.expand_dims(image_array, axis=0)\n",
    "    processed_image = inception_v3.preprocess_input(image_batch.copy())\n",
    "    \n",
    "    # make predictions\n",
    "    predictions = inception_model.predict(processed_image)\n",
    "    \n",
    "    # transform predictions to json\n",
    "    raw_label = decode_predictions(predictions)\n",
    "    label = LabelRecord(raw_label)\n",
    "    label_json = label.toJSON()\n",
    "    \n",
    "    # send encoded label\n",
    "    producer.send('classificationlabel', label_json.encode())"
   ]
  },
  {
   "cell_type": "code",
   "execution_count": null,
   "metadata": {},
   "outputs": [],
   "source": []
  },
  {
   "cell_type": "code",
   "execution_count": null,
   "metadata": {},
   "outputs": [],
   "source": []
  }
 ],
 "metadata": {
  "kernelspec": {
   "display_name": "Python 3",
   "language": "python",
   "name": "python3"
  },
  "language_info": {
   "codemirror_mode": {
    "name": "ipython",
    "version": 3
   },
   "file_extension": ".py",
   "mimetype": "text/x-python",
   "name": "python",
   "nbconvert_exporter": "python",
   "pygments_lexer": "ipython3",
   "version": "3.5.4"
  }
 },
 "nbformat": 4,
 "nbformat_minor": 2
}
